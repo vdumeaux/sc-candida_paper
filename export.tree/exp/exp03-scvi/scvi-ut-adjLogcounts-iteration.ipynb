{
 "cells": [
  {
   "cell_type": "markdown",
   "metadata": {},
   "source": [
    "#  Analyses of UT cells - scvi\n"
   ]
  },
  {
   "cell_type": "markdown",
   "metadata": {},
   "source": [
    "# 0. Loading the libraries"
   ]
  },
  {
   "cell_type": "code",
   "execution_count": 1,
   "metadata": {},
   "outputs": [],
   "source": [
    "%reload_ext autoreload\n",
    "%autoreload 2\n",
    "%matplotlib inline"
   ]
  },
  {
   "cell_type": "code",
   "execution_count": 2,
   "metadata": {
    "scrolled": false
   },
   "outputs": [],
   "source": [
    "import scanpy as sc\n",
    "import numpy as np\n",
    "import scipy as sp\n",
    "import pandas as pd\n",
    "\n",
    "%matplotlib inline\n",
    "%matplotlib inline\n",
    "%config InlineBackend.figure_format = 'retina'\n",
    "import seaborn as sb\n",
    "sb.set_context('notebook')\n",
    "import matplotlib.pyplot as plt\n",
    "from matplotlib import rcParams\n",
    "from matplotlib import colors\n",
    "plt.rcParams['figure.figsize']=(8,8) #rescale figures\n",
    "plt.rcParams.update({'figure.max_open_warning': 0})\n",
    "\n",
    "from gprofiler import gprofiler\n",
    "\n",
    "import scprep\n",
    "from umap import UMAP\n",
    "import graphtools as gt\n",
    "import meld\n",
    "import magic"
   ]
  },
  {
   "cell_type": "code",
   "execution_count": 3,
   "metadata": {},
   "outputs": [
    {
     "name": "stdout",
     "output_type": "stream",
     "text": [
      "3.4.2\n"
     ]
    }
   ],
   "source": [
    "import rpy2\n",
    "print(rpy2.__version__)"
   ]
  },
  {
   "cell_type": "code",
   "execution_count": 4,
   "metadata": {},
   "outputs": [
    {
     "name": "stdout",
     "output_type": "stream",
     "text": [
      "WARNING: If you miss a compact list, please try `print_header`!\n",
      "-----\n",
      "anndata     0.7.6\n",
      "scanpy      1.8.1\n",
      "sinfo       0.3.1\n",
      "-----\n",
      "PIL                 8.3.1\n",
      "anndata             0.7.6\n",
      "anndata2ri          0.0.0\n",
      "autoreload          NA\n",
      "backcall            0.2.0\n",
      "beta_ufunc          NA\n",
      "binom_ufunc         NA\n",
      "brotli              NA\n",
      "certifi             2022.09.24\n",
      "cffi                1.14.6\n",
      "chardet             4.0.0\n",
      "charset_normalizer  2.0.0\n",
      "colorama            0.4.4\n",
      "concurrent          NA\n",
      "cycler              0.10.0\n",
      "cython_runtime      NA\n",
      "dateutil            2.8.2\n",
      "decorator           4.4.2\n",
      "defusedxml          0.7.1\n",
      "deprecated          1.2.12\n",
      "dunamai             1.6.0\n",
      "encodings           NA\n",
      "future              0.18.2\n",
      "genericpath         NA\n",
      "get_version         3.5\n",
      "google              NA\n",
      "gprofiler           1.0.0\n",
      "graphtools          1.5.2\n",
      "h5py                3.3.0\n",
      "idna                3.2\n",
      "igraph              0.9.6\n",
      "ipykernel           6.1.0\n",
      "ipython_genutils    0.2.0\n",
      "ipywidgets          7.6.3\n",
      "jedi                0.18.0\n",
      "jinja2              3.0.1\n",
      "joblib              1.0.1\n",
      "kiwisolver          1.3.1\n",
      "leidenalg           0.8.7\n",
      "llvmlite            0.36.0\n",
      "magic               3.0.0\n",
      "markupsafe          2.0.1\n",
      "matplotlib          3.4.2\n",
      "matplotlib_inline   NA\n",
      "meld                0.5.0\n",
      "mpl_toolkits        NA\n",
      "natsort             7.1.1\n",
      "nbinom_ufunc        NA\n",
      "ntpath              NA\n",
      "numba               0.53.1\n",
      "numexpr             2.7.3\n",
      "numpy               1.21.1\n",
      "opcode              NA\n",
      "packaging           20.9\n",
      "pandas              1.3.1\n",
      "parso               0.8.2\n",
      "pexpect             4.8.0\n",
      "pickleshare         0.7.5\n",
      "pkg_resources       NA\n",
      "posixpath           NA\n",
      "prompt_toolkit      3.0.19\n",
      "ptyprocess          0.7.0\n",
      "pycparser           2.20\n",
      "pydoc_data          NA\n",
      "pyexpat             NA\n",
      "pygments            2.9.0\n",
      "pygsp               0.5.1\n",
      "pynndescent         0.5.4\n",
      "pyparsing           2.4.7\n",
      "pytz                2021.1\n",
      "requests            2.26.0\n",
      "rpy2                3.4.2\n",
      "scanpy              1.8.1\n",
      "scipy               1.7.1\n",
      "scprep              1.1.0\n",
      "seaborn             0.11.1\n",
      "sinfo               0.3.1\n",
      "sitecustomize       NA\n",
      "six                 1.16.0\n",
      "sklearn             0.24.2\n",
      "socks               1.7.1\n",
      "sphinxcontrib       NA\n",
      "sre_compile         NA\n",
      "sre_constants       NA\n",
      "sre_parse           NA\n",
      "statsmodels         0.12.2\n",
      "storemagic          NA\n",
      "tables              3.6.1\n",
      "tasklogger          1.1.0\n",
      "texttable           1.6.4\n",
      "threadpoolctl       2.2.0\n",
      "tornado             6.1\n",
      "tqdm                4.62.0\n",
      "traitlets           5.0.5\n",
      "typing_extensions   NA\n",
      "tzlocal             NA\n",
      "umap                0.5.3\n",
      "urllib3             1.26.6\n",
      "wcwidth             0.2.5\n",
      "wrapt               1.12.1\n",
      "yaml                5.4.1\n",
      "zmq                 22.2.1\n",
      "-----\n",
      "IPython             7.26.0\n",
      "jupyter_client      6.1.12\n",
      "jupyter_core        4.7.1\n",
      "notebook            6.4.3\n",
      "-----\n",
      "Python 3.9.6 | packaged by conda-forge | (default, Jul 11 2021, 03:39:48) [GCC 9.3.0]\n",
      "Linux-5.4.0-131-generic-x86_64-with-glibc2.31\n",
      "32 logical CPU cores, x86_64\n",
      "-----\n",
      "Session information updated at 2022-12-24 13:46\n",
      "\n"
     ]
    }
   ],
   "source": [
    "# Ignore R warning messages\n",
    "# Note: this can be commented out to get more verbose R output\n",
    "import rpy2.rinterface_lib.callbacks\n",
    "import logging\n",
    "rpy2.rinterface_lib.callbacks.logger.setLevel(logging.ERROR)\n",
    "\n",
    "# Automatically convert rpy2 outputs to pandas dataframes\n",
    "import rpy2.robjects as ro\n",
    "\n",
    "from rpy2.robjects import pandas2ri\n",
    "pandas2ri.activate()\n",
    "\n",
    "from rpy2.robjects import numpy2ri\n",
    "numpy2ri.activate()\n",
    "\n",
    "import anndata2ri\n",
    "anndata2ri.activate()\n",
    "\n",
    "%reload_ext rpy2.ipython\n",
    "\n",
    "sc.settings.verbosity = 3\n",
    "#sc.set_figure_params(dpi=200, dpi_save=300)\n",
    "sc.logging.print_versions()\n",
    "\n",
    "import scvi\n",
    "import random"
   ]
  },
  {
   "cell_type": "markdown",
   "metadata": {},
   "source": [
    "<a id=\"Reading\"></a>"
   ]
  },
  {
   "cell_type": "markdown",
   "metadata": {},
   "source": [
    "# 1. Reading in the data"
   ]
  },
  {
   "cell_type": "code",
   "execution_count": 5,
   "metadata": {},
   "outputs": [],
   "source": [
    "import anndata\n",
    "adata = anndata.read_h5ad('../../data/data03-scvi/finalall-adata.h5ad')"
   ]
  },
  {
   "cell_type": "code",
   "execution_count": 6,
   "metadata": {},
   "outputs": [
    {
     "name": "stdout",
     "output_type": "stream",
     "text": [
      "UT_0_1_FALSE      2736\n",
      "FCZ_6_3_FALSE     2483\n",
      "RAPA_2_2_FALSE    2460\n",
      "FCZ_2_2_FALSE     2444\n",
      "CSP_2_1_FALSE     2075\n",
      "UT_0_3_FALSE      2050\n",
      "FCZ_3_2_FALSE     1616\n",
      "FCZ_2_1_FALSE      948\n",
      "FCZ_3_3_FALSE      908\n",
      "FCZ_3_1_FALSE      858\n",
      "UT_0_2_FALSE       276\n",
      "Name: orig.ident, dtype: int64\n",
      "\n",
      "3.0    12237\n",
      "2.0     6617\n",
      "Name: nruns, dtype: int64\n",
      "\n"
     ]
    }
   ],
   "source": [
    "# Annotate the data sets\n",
    "print(adata.obs['orig.ident'].value_counts())\n",
    "print('')\n",
    "print(adata.obs['nruns'].value_counts())\n",
    "print('')"
   ]
  },
  {
   "cell_type": "code",
   "execution_count": 7,
   "metadata": {},
   "outputs": [],
   "source": [
    "adata = adata[(adata.obs[\"drug_day\"].isin([\"UT_0\"]))]"
   ]
  },
  {
   "cell_type": "code",
   "execution_count": 8,
   "metadata": {},
   "outputs": [
    {
     "name": "stdout",
     "output_type": "stream",
     "text": [
      "UT_0_1_FALSE    2736\n",
      "UT_0_3_FALSE    2050\n",
      "UT_0_2_FALSE     276\n",
      "Name: orig.ident, dtype: int64\n",
      "\n"
     ]
    }
   ],
   "source": [
    "print(adata.obs['orig.ident'].value_counts())\n",
    "print('')"
   ]
  },
  {
   "cell_type": "markdown",
   "metadata": {},
   "source": [
    "# 2. MAGIC imputation"
   ]
  },
  {
   "cell_type": "markdown",
   "metadata": {},
   "source": [
    "Count data are first notmalized for library size and square-root transformed. We then aply MAGIC (Markov Affinity-based Graph Imputation of Cells), an algorithm for denoising and imputation of single cells applied to single-cell RNA sequencing data, as described in Van Dijk D et al. (2018), Recovering Gene Interactions from Single-Cell Data Using Data Diffusion, Cell. [https://www.cell.com/cell/abstract/S0092-8674(18)30724-4]"
   ]
  },
  {
   "cell_type": "code",
   "execution_count": 9,
   "metadata": {},
   "outputs": [
    {
     "name": "stdout",
     "output_type": "stream",
     "text": [
      "Calculating MAGIC...\n",
      "  Running MAGIC on 5062 cells and 5277 genes.\n",
      "  Calculating graph and diffusion operator...\n",
      "    Calculating PCA...\n"
     ]
    },
    {
     "name": "stderr",
     "output_type": "stream",
     "text": [
      "/home/vanessa.d/.local/lib/python3.9/site-packages/magic/magic.py:425: UserWarning: Input matrix contains unexpressed genes. Please remove them prior to running MAGIC.\n",
      "  warnings.warn(\n"
     ]
    },
    {
     "name": "stdout",
     "output_type": "stream",
     "text": [
      "    Calculated PCA in 0.67 seconds.\n",
      "    Calculating KNN search...\n",
      "    Calculated KNN search in 2.97 seconds.\n",
      "    Calculating affinities...\n",
      "    Calculated affinities in 2.92 seconds.\n",
      "  Calculated graph and diffusion operator in 6.58 seconds.\n",
      "  Calculating imputation...\n",
      "  Calculated imputation in 2.31 seconds.\n",
      "Calculated MAGIC in 8.99 seconds.\n"
     ]
    }
   ],
   "source": [
    "import magic\n",
    "data_libnorm, libsize = scprep.normalize.library_size_normalize(adata.X, return_library_size=True)\n",
    "data_sqrt = scprep.transform.sqrt(data_libnorm)\n",
    "data_magic = magic.MAGIC().fit_transform(data_sqrt)"
   ]
  },
  {
   "cell_type": "code",
   "execution_count": 10,
   "metadata": {},
   "outputs": [],
   "source": [
    "adata.layers[\"magic\"]=data_magic"
   ]
  },
  {
   "cell_type": "code",
   "execution_count": 11,
   "metadata": {},
   "outputs": [],
   "source": [
    "gene_list = adata.var.index.values\n",
    "dge = pd.DataFrame(data_magic,columns = gene_list)\n",
    "#pd.DataFrame(dge).to_csv(\"../../data/data03-scvi/ut_0-adjLogcounts_magic.csv\")"
   ]
  },
  {
   "cell_type": "markdown",
   "metadata": {},
   "source": [
    "# 3. scVI"
   ]
  },
  {
   "cell_type": "code",
   "execution_count": 12,
   "metadata": {
    "scrolled": true
   },
   "outputs": [
    {
     "name": "stdout",
     "output_type": "stream",
     "text": [
      "normalizing counts per cell\n",
      "    finished (0:00:00)\n"
     ]
    }
   ],
   "source": [
    "adata.layers[\"counts\"] = adata.X.copy() # preserve counts\n",
    "sc.pp.normalize_total(adata, target_sum=1e4)\n",
    "sc.pp.log1p(adata)\n",
    "adata.raw = adata # freeze the state in `.raw`"
   ]
  },
  {
   "cell_type": "code",
   "execution_count": 13,
   "metadata": {
    "scrolled": true
   },
   "outputs": [],
   "source": [
    "adata\n",
    "adata.write('ut_processed.h5ad')"
   ]
  },
  {
   "cell_type": "code",
   "execution_count": null,
   "metadata": {},
   "outputs": [],
   "source": [
    "adata = anndata.read('ut_processed.h5ad')\n",
    "\n",
    "\n",
    "def process_random_columns(adata, sample_size=0.95):\n",
    "    all_columns = adata.obs_names.tolist()\n",
    "    \n",
    "    # leiden_scVI_vectors = {} # list to store the resulting leiden_scVI vectors\n",
    "          \n",
    "    random.shuffle(all_columns)\n",
    "        \n",
    "    # Select a random sample of the columns\n",
    "        \n",
    "    sample_columns = all_columns[:int(sample_size * len(all_columns))]\n",
    "               \n",
    "    tmp_adata = adata[(adata.obs_names.isin(sample_columns))].copy()\n",
    "        \n",
    "    scvi.data.setup_anndata(\n",
    "                tmp_adata,\n",
    "                layer=\"counts\",\n",
    "                batch_key='batch',\n",
    "                continuous_covariate_keys=[\"log_counts\"])\n",
    "            \n",
    "    model = scvi.model.SCVI(tmp_adata)\n",
    "            \n",
    "    model.train()\n",
    "            \n",
    "    tmp_adata.layers[\"scvi_normalized\"] = model.get_normalized_expression(\n",
    "                library_size=10e4\n",
    "            )\n",
    "            \n",
    "    latent = model.get_latent_representation()\n",
    "            \n",
    "    tmp_adata.obsm[\"X_scVI\"] = latent\n",
    "            \n",
    "    sc.pp.neighbors(tmp_adata, use_rep=\"X_scVI\")\n",
    "            \n",
    "    sc.tl.umap(tmp_adata, min_dist=0.3)\n",
    "            \n",
    "    sc.tl.leiden(tmp_adata, key_added=\"leiden_scVI\", resolution=0.4)\n",
    "    \n",
    "    leiden_scVI_vectors = pd.DataFrame({'cellid': tmp_adata.obs_names.tolist(), 'leiden_scvi': tmp_adata.obs['leiden_scVI']})\n",
    "            \n",
    "    return leiden_scVI_vectors\n"
   ]
  },
  {
   "cell_type": "code",
   "execution_count": null,
   "metadata": {},
   "outputs": [],
   "source": [
    "results = []\n",
    "for i in range(100):\n",
    "    result = process_random_columns(adata)\n",
    "    results.append(result)\n",
    "    \n",
    "# Merge the DataFrames\n",
    "df_merged = results[0]\n",
    "\n",
    "for df in results[1:]:\n",
    "    df_merged = df_merged.merge(df, on='cellid', how='outer')\n",
    "\n",
    "df_merged.to_csv('scvi_ut_iteration.csv', index=False)"
   ]
  }
 ],
 "metadata": {
  "kernelspec": {
   "display_name": "scvi-env",
   "language": "python",
   "name": "scvi-env"
  },
  "language_info": {
   "codemirror_mode": {
    "name": "ipython",
    "version": 3
   },
   "file_extension": ".py",
   "mimetype": "text/x-python",
   "name": "python",
   "nbconvert_exporter": "python",
   "pygments_lexer": "ipython3",
   "version": "3.9.6"
  },
  "toc": {
   "base_numbering": "0",
   "nav_menu": {},
   "number_sections": true,
   "sideBar": true,
   "skip_h1_title": false,
   "title_cell": "Table of Contents",
   "title_sidebar": "Contents",
   "toc_cell": false,
   "toc_position": {
    "height": "calc(100% - 180px)",
    "left": "10px",
    "top": "150px",
    "width": "302px"
   },
   "toc_section_display": true,
   "toc_window_display": true
  },
  "varInspector": {
   "cols": {
    "lenName": 16,
    "lenType": 16,
    "lenVar": 40
   },
   "kernels_config": {
    "python": {
     "delete_cmd_postfix": "",
     "delete_cmd_prefix": "del ",
     "library": "var_list.py",
     "varRefreshCmd": "print(var_dic_list())"
    },
    "r": {
     "delete_cmd_postfix": ") ",
     "delete_cmd_prefix": "rm(",
     "library": "var_list.r",
     "varRefreshCmd": "cat(var_dic_list()) "
    }
   },
   "types_to_exclude": [
    "module",
    "function",
    "builtin_function_or_method",
    "instance",
    "_Feature"
   ],
   "window_display": false
  }
 },
 "nbformat": 4,
 "nbformat_minor": 2
}
